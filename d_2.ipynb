{
 "cells": [
  {
   "cell_type": "code",
   "execution_count": 44,
   "id": "7feab0c3-a1a5-4b1f-834d-848f1a579417",
   "metadata": {},
   "outputs": [],
   "source": [
    "import pandas as pd\n",
    "import numpy as np\n",
    "import matplotlib.pyplot as plt"
   ]
  },
  {
   "cell_type": "code",
   "execution_count": 45,
   "id": "9217041a-3ec9-4de1-89da-1b9a598aa0c7",
   "metadata": {},
   "outputs": [],
   "source": [
    "%run code.py"
   ]
  },
  {
   "cell_type": "code",
   "execution_count": 79,
   "id": "3e7f888c-06a1-40e4-b2aa-2db87dca4c3b",
   "metadata": {},
   "outputs": [],
   "source": [
    "df=pd.read_excel(\"disser1_yz.xlsx\",index_col='Xm' )"
   ]
  },
  {
   "cell_type": "code",
   "execution_count": 80,
   "id": "d8986a23-8fa5-4128-b96f-8b96bc06ac0d",
   "metadata": {},
   "outputs": [
    {
     "name": "stdout",
     "output_type": "stream",
     "text": [
      "Requirement already satisfied: openpyxl in /srv/conda/envs/notebook/lib/python3.7/site-packages (3.0.9)\n",
      "Requirement already satisfied: et-xmlfile in /srv/conda/envs/notebook/lib/python3.7/site-packages (from openpyxl) (1.1.0)\n",
      "Note: you may need to restart the kernel to use updated packages.\n"
     ]
    }
   ],
   "source": [
    "pip install openpyxl"
   ]
  },
  {
   "cell_type": "code",
   "execution_count": 81,
   "id": "2457bd71-decb-46bf-a523-03a2aabe157c",
   "metadata": {},
   "outputs": [
    {
     "data": {
      "text/html": [
       "<div>\n",
       "<style scoped>\n",
       "    .dataframe tbody tr th:only-of-type {\n",
       "        vertical-align: middle;\n",
       "    }\n",
       "\n",
       "    .dataframe tbody tr th {\n",
       "        vertical-align: top;\n",
       "    }\n",
       "\n",
       "    .dataframe thead th {\n",
       "        text-align: right;\n",
       "    }\n",
       "</style>\n",
       "<table border=\"1\" class=\"dataframe\">\n",
       "  <thead>\n",
       "    <tr style=\"text-align: right;\">\n",
       "      <th></th>\n",
       "      <th>Y</th>\n",
       "    </tr>\n",
       "    <tr>\n",
       "      <th>Xm</th>\n",
       "      <th></th>\n",
       "    </tr>\n",
       "  </thead>\n",
       "  <tbody>\n",
       "    <tr>\n",
       "      <th>2000-12-12</th>\n",
       "      <td>62.0</td>\n",
       "    </tr>\n",
       "    <tr>\n",
       "      <th>2001-12-12</th>\n",
       "      <td>62.5</td>\n",
       "    </tr>\n",
       "    <tr>\n",
       "      <th>2002-12-12</th>\n",
       "      <td>65.8</td>\n",
       "    </tr>\n",
       "    <tr>\n",
       "      <th>2003-12-12</th>\n",
       "      <td>64.5</td>\n",
       "    </tr>\n",
       "    <tr>\n",
       "      <th>2004-12-12</th>\n",
       "      <td>63.6</td>\n",
       "    </tr>\n",
       "    <tr>\n",
       "      <th>2005-12-12</th>\n",
       "      <td>61.8</td>\n",
       "    </tr>\n",
       "    <tr>\n",
       "      <th>2006-12-12</th>\n",
       "      <td>62.7</td>\n",
       "    </tr>\n",
       "    <tr>\n",
       "      <th>2007-12-12</th>\n",
       "      <td>63.4</td>\n",
       "    </tr>\n",
       "    <tr>\n",
       "      <th>2008-12-12</th>\n",
       "      <td>63.2</td>\n",
       "    </tr>\n",
       "    <tr>\n",
       "      <th>2009-12-12</th>\n",
       "      <td>63.3</td>\n",
       "    </tr>\n",
       "    <tr>\n",
       "      <th>2010-12-12</th>\n",
       "      <td>62.0</td>\n",
       "    </tr>\n",
       "    <tr>\n",
       "      <th>2011-12-12</th>\n",
       "      <td>62.0</td>\n",
       "    </tr>\n",
       "    <tr>\n",
       "      <th>2012-12-12</th>\n",
       "      <td>64.2</td>\n",
       "    </tr>\n",
       "    <tr>\n",
       "      <th>2013-12-12</th>\n",
       "      <td>65.2</td>\n",
       "    </tr>\n",
       "    <tr>\n",
       "      <th>2014-12-12</th>\n",
       "      <td>65.4</td>\n",
       "    </tr>\n",
       "    <tr>\n",
       "      <th>2015-12-12</th>\n",
       "      <td>65.6</td>\n",
       "    </tr>\n",
       "    <tr>\n",
       "      <th>2016-12-12</th>\n",
       "      <td>64.5</td>\n",
       "    </tr>\n",
       "    <tr>\n",
       "      <th>2017-12-12</th>\n",
       "      <td>65.5</td>\n",
       "    </tr>\n",
       "    <tr>\n",
       "      <th>2018-12-12</th>\n",
       "      <td>65.7</td>\n",
       "    </tr>\n",
       "    <tr>\n",
       "      <th>2019-12-12</th>\n",
       "      <td>65.8</td>\n",
       "    </tr>\n",
       "    <tr>\n",
       "      <th>2020-12-12</th>\n",
       "      <td>65.1</td>\n",
       "    </tr>\n",
       "  </tbody>\n",
       "</table>\n",
       "</div>"
      ],
      "text/plain": [
       "               Y\n",
       "Xm              \n",
       "2000-12-12  62.0\n",
       "2001-12-12  62.5\n",
       "2002-12-12  65.8\n",
       "2003-12-12  64.5\n",
       "2004-12-12  63.6\n",
       "2005-12-12  61.8\n",
       "2006-12-12  62.7\n",
       "2007-12-12  63.4\n",
       "2008-12-12  63.2\n",
       "2009-12-12  63.3\n",
       "2010-12-12  62.0\n",
       "2011-12-12  62.0\n",
       "2012-12-12  64.2\n",
       "2013-12-12  65.2\n",
       "2014-12-12  65.4\n",
       "2015-12-12  65.6\n",
       "2016-12-12  64.5\n",
       "2017-12-12  65.5\n",
       "2018-12-12  65.7\n",
       "2019-12-12  65.8\n",
       "2020-12-12  65.1"
      ]
     },
     "execution_count": 81,
     "metadata": {},
     "output_type": "execute_result"
    }
   ],
   "source": [
    "df"
   ]
  },
  {
   "cell_type": "code",
   "execution_count": 82,
   "id": "6fbc0e71-afc2-46d1-acca-7da44b4fcd49",
   "metadata": {},
   "outputs": [
    {
     "data": {
      "text/plain": [
       "[<matplotlib.axes._subplots.AxesSubplot at 0x7f1da5666d90>]"
      ]
     },
     "execution_count": 82,
     "metadata": {},
     "output_type": "execute_result"
    },
    {
     "data": {
      "image/png": "[encoded data removed]",
      "text/plain": [
       "<Figure size 1152x288 with 1 Axes>"
      ]
     },
     "metadata": {},
     "output_type": "display_data"
    }
   ],
   "source": [
    "plot(df)"
   ]
  },
  {
   "cell_type": "code",
   "execution_count": 83,
   "id": "fcd4deba-22aa-40e0-88b2-f4d10085d995",
   "metadata": {},
   "outputs": [],
   "source": [
    "df=validate_series(df)"
   ]
  },
  {
   "cell_type": "code",
   "execution_count": 84,
   "id": "976bb392-91cc-42bd-b4a3-8f3d8f153f48",
   "metadata": {},
   "outputs": [
    {
     "name": "stdout",
     "output_type": "stream",
     "text": [
      "               Y\n",
      "Xm              \n",
      "2000-12-12  62.0\n",
      "2001-12-12  62.5\n",
      "2002-12-12  65.8\n",
      "2003-12-12  64.5\n",
      "2004-12-12  63.6\n",
      "2005-12-12  61.8\n",
      "2006-12-12  62.7\n",
      "2007-12-12  63.4\n",
      "2008-12-12  63.2\n",
      "2009-12-12  63.3\n",
      "2010-12-12  62.0\n",
      "2011-12-12  62.0\n",
      "2012-12-12  64.2\n",
      "2013-12-12  65.2\n",
      "2014-12-12  65.4\n",
      "2015-12-12  65.6\n",
      "2016-12-12  64.5\n",
      "2017-12-12  65.5\n",
      "2018-12-12  65.7\n",
      "2019-12-12  65.8\n",
      "2020-12-12  65.1\n"
     ]
    }
   ],
   "source": [
    "print(df)"
   ]
  },
  {
   "cell_type": "code",
   "execution_count": 85,
   "id": "d558e96b-b923-4686-9d52-c96b8b2e3801",
   "metadata": {
    "tags": []
   },
   "outputs": [
    {
     "data": {
      "text/plain": [
       "[<matplotlib.axes._subplots.AxesSubplot at 0x7f1da565ec90>]"
      ]
     },
     "execution_count": 85,
     "metadata": {},
     "output_type": "execute_result"
    },
    {
     "data": {
      "image/png": "[encoded data removed]",
      "text/plain": [
       "<Figure size 1152x288 with 1 Axes>"
      ]
     },
     "metadata": {},
     "output_type": "display_data"
    }
   ],
   "source": [
    "plot(df)"
   ]
  },
  {
   "cell_type": "code",
   "execution_count": 86,
   "id": "9e53cb79-447a-419e-9f8c-185c4eb442da",
   "metadata": {},
   "outputs": [],
   "source": [
    "import seaborn as sns"
   ]
  },
  {
   "cell_type": "code",
   "execution_count": 88,
   "id": "160c0f98-a4d3-4cb9-bcef-fe823d5851e8",
   "metadata": {},
   "outputs": [
    {
     "data": {
      "text/html": [
       "<div>\n",
       "<style scoped>\n",
       "    .dataframe tbody tr th:only-of-type {\n",
       "        vertical-align: middle;\n",
       "    }\n",
       "\n",
       "    .dataframe tbody tr th {\n",
       "        vertical-align: top;\n",
       "    }\n",
       "\n",
       "    .dataframe thead th {\n",
       "        text-align: right;\n",
       "    }\n",
       "</style>\n",
       "<table border=\"1\" class=\"dataframe\">\n",
       "  <thead>\n",
       "    <tr style=\"text-align: right;\">\n",
       "      <th></th>\n",
       "      <th>Y</th>\n",
       "    </tr>\n",
       "  </thead>\n",
       "  <tbody>\n",
       "    <tr>\n",
       "      <th>count</th>\n",
       "      <td>21.000000</td>\n",
       "    </tr>\n",
       "    <tr>\n",
       "      <th>mean</th>\n",
       "      <td>63.990476</td>\n",
       "    </tr>\n",
       "    <tr>\n",
       "      <th>std</th>\n",
       "      <td>1.444958</td>\n",
       "    </tr>\n",
       "    <tr>\n",
       "      <th>min</th>\n",
       "      <td>61.800000</td>\n",
       "    </tr>\n",
       "    <tr>\n",
       "      <th>25%</th>\n",
       "      <td>62.700000</td>\n",
       "    </tr>\n",
       "    <tr>\n",
       "      <th>50%</th>\n",
       "      <td>64.200000</td>\n",
       "    </tr>\n",
       "    <tr>\n",
       "      <th>75%</th>\n",
       "      <td>65.400000</td>\n",
       "    </tr>\n",
       "    <tr>\n",
       "      <th>max</th>\n",
       "      <td>65.800000</td>\n",
       "    </tr>\n",
       "  </tbody>\n",
       "</table>\n",
       "</div>"
      ],
      "text/plain": [
       "               Y\n",
       "count  21.000000\n",
       "mean   63.990476\n",
       "std     1.444958\n",
       "min    61.800000\n",
       "25%    62.700000\n",
       "50%    64.200000\n",
       "75%    65.400000\n",
       "max    65.800000"
      ]
     },
     "execution_count": 88,
     "metadata": {},
     "output_type": "execute_result"
    }
   ],
   "source": [
    "df.describe()"
   ]
  },
  {
   "cell_type": "code",
   "execution_count": 89,
   "id": "9ca941f2-7575-440c-ad9a-7e3086740d29",
   "metadata": {},
   "outputs": [
    {
     "data": {
      "text/plain": [
       "array([[<matplotlib.axes._subplots.AxesSubplot object at 0x7f1da5471dd0>]],\n",
       "      dtype=object)"
      ]
     },
     "execution_count": 89,
     "metadata": {},
     "output_type": "execute_result"
    },
    {
     "data": {
      "image/png": "[encoded data removed]",
      "text/plain": [
       "<Figure size 432x288 with 1 Axes>"
      ]
     },
     "metadata": {},
     "output_type": "display_data"
    }
   ],
   "source": [
    "df.hist()"
   ]
  },
  {
   "cell_type": "code",
   "execution_count": 90,
   "id": "16434713-4467-4f52-95ca-f9eca94e5c7a",
   "metadata": {},
   "outputs": [],
   "source": [
    "%matplotlib inline"
   ]
  },
  {
   "cell_type": "code",
   "execution_count": 91,
   "id": "2b90b3dd-744c-482e-baa0-a315b9e508c0",
   "metadata": {},
   "outputs": [
    {
     "data": {
      "text/plain": [
       "<matplotlib.axes._subplots.AxesSubplot at 0x7f1da53f3b90>"
      ]
     },
     "execution_count": 91,
     "metadata": {},
     "output_type": "execute_result"
    },
    {
     "data": {
      "image/png": "[encoded data removed]",
      "text/plain": [
       "<Figure size 432x288 with 1 Axes>"
      ]
     },
     "metadata": {
      "needs_background": "light"
     },
     "output_type": "display_data"
    }
   ],
   "source": [
    "df.plot()"
   ]
  },
  {
   "cell_type": "code",
   "execution_count": 92,
   "id": "e9a79979-9fd1-43ea-acad-bc6d2682f87e",
   "metadata": {},
   "outputs": [
    {
     "data": {
      "text/plain": [
       "array([[<matplotlib.axes._subplots.AxesSubplot object at 0x7f1da536ff50>]],\n",
       "      dtype=object)"
      ]
     },
     "execution_count": 92,
     "metadata": {},
     "output_type": "execute_result"
    },
    {
     "data": {
      "image/png": "[encoded data removed]",
      "text/plain": [
       "<Figure size 432x288 with 1 Axes>"
      ]
     },
     "metadata": {
      "needs_background": "light"
     },
     "output_type": "display_data"
    }
   ],
   "source": [
    "df.hist()"
   ]
  },
  {
   "cell_type": "code",
   "execution_count": 93,
   "id": "6aaf6d71-7d81-4f20-b92b-00589dc9868e",
   "metadata": {},
   "outputs": [
    {
     "data": {
      "text/plain": [
       "[<matplotlib.axes._subplots.AxesSubplot at 0x7f1da52fc310>]"
      ]
     },
     "execution_count": 93,
     "metadata": {},
     "output_type": "execute_result"
    },
    {
     "data": {
      "image/png": "[encoded data removed]",
      "text/plain": [
       "<Figure size 1152x288 with 1 Axes>"
      ]
     },
     "metadata": {},
     "output_type": "display_data"
    }
   ],
   "source": [
    "plot(df)"
   ]
  },
  {
   "cell_type": "code",
   "execution_count": 94,
   "id": "443b74a9-3bcd-49b8-b637-f0c1926fb067",
   "metadata": {},
   "outputs": [],
   "source": [
    "fit1=ExponentialSmoothing(df, trend='add').fit()"
   ]
  },
  {
   "cell_type": "code",
   "execution_count": 95,
   "id": "54603a05-19ae-43aa-bb44-a74044942307",
   "metadata": {},
   "outputs": [
    {
     "data": {
      "text/plain": [
       "{'smoothing_level': 0.9731985802435106,\n",
       " 'smoothing_trend': 2.6482709870689397e-12,\n",
       " 'smoothing_seasonal': nan,\n",
       " 'damping_trend': nan,\n",
       " 'initial_level': 61.855376681417034,\n",
       " 'initial_trend': 0.1555460518028337,\n",
       " 'initial_seasons': array([], dtype=float64),\n",
       " 'use_boxcox': False,\n",
       " 'lamda': None,\n",
       " 'remove_bias': False}"
      ]
     },
     "execution_count": 95,
     "metadata": {},
     "output_type": "execute_result"
    }
   ],
   "source": [
    "fit1.params"
   ]
  },
  {
   "cell_type": "code",
   "execution_count": 96,
   "id": "64c32825-2f19-4601-832e-05d1f201c26d",
   "metadata": {},
   "outputs": [
    {
     "data": {
      "text/plain": [
       "Xm\n",
       "2000-12-12    62.010923\n",
       "2001-12-12    62.155839\n",
       "2002-12-12    62.646322\n",
       "2003-12-12    65.871023\n",
       "2004-12-12    64.692291\n",
       "2005-12-12    63.784821\n",
       "2006-12-12    62.008742\n",
       "2007-12-12    62.837019\n",
       "2008-12-12    63.540457\n",
       "2009-12-12    63.364671\n",
       "2010-12-12    63.457279\n",
       "2011-12-12    62.194603\n",
       "2012-12-12    62.160762\n",
       "2013-12-12    64.300892\n",
       "2014-12-12    65.331449\n",
       "2015-12-12    65.553709\n",
       "2016-12-12    65.754305\n",
       "2017-12-12    64.689163\n",
       "2018-12-12    65.633814\n",
       "2019-12-12    65.853772\n",
       "2020-12-12    65.956987\n",
       "dtype: float64"
      ]
     },
     "execution_count": 96,
     "metadata": {},
     "output_type": "execute_result"
    }
   ],
   "source": [
    "fit1.fittedvalues"
   ]
  },
  {
   "cell_type": "code",
   "execution_count": 98,
   "id": "ae5af594-014f-45c9-8c16-cb75980d959d",
   "metadata": {},
   "outputs": [
    {
     "data": {
      "text/plain": [
       "21    65.278515\n",
       "22    65.434061\n",
       "23    65.589607\n",
       "24    65.745153\n",
       "dtype: float64"
      ]
     },
     "execution_count": 98,
     "metadata": {},
     "output_type": "execute_result"
    }
   ],
   "source": [
    "fit1.forecast(4)"
   ]
  },
  {
   "cell_type": "code",
   "execution_count": null,
   "id": "b142cf33-58ce-4ebb-935e-bbb7e487ec21",
   "metadata": {},
   "outputs": [],
   "source": []
  }
 ],
 "metadata": {
  "kernelspec": {
   "display_name": "Python 3",
   "language": "python",
   "name": "python3"
  },
  "language_info": {
   "codemirror_mode": {
    "name": "ipython",
    "version": 3
   },
   "file_extension": ".py",
   "mimetype": "text/x-python",
   "name": "python",
   "nbconvert_exporter": "python",
   "pygments_lexer": "ipython3",
   "version": "3.7.8"
  }
 },
 "nbformat": 4,
 "nbformat_minor": 5
}
